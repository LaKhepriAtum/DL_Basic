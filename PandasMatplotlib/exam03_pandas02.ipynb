{
  "nbformat": 4,
  "nbformat_minor": 0,
  "metadata": {
    "colab": {
      "name": "exam03_pandas02.ipynb",
      "provenance": [],
      "collapsed_sections": []
    },
    "kernelspec": {
      "name": "python3",
      "display_name": "Python 3"
    },
    "language_info": {
      "name": "python"
    }
  },
  "cells": [
    {
      "cell_type": "markdown",
      "source": [
        "# pandas 전처리"
      ],
      "metadata": {
        "id": "mIuQpxagQPOf"
      }
    },
    {
      "cell_type": "code",
      "source": [
        "import pandas as pd\n",
        "import numpy as np\n",
        "import seaborn as sns # 시각화 라이브러리\n",
        "from sklearn import preprocessing # 전처리용\n"
      ],
      "metadata": {
        "id": "Il0T_ST5ajRL"
      },
      "execution_count": 2,
      "outputs": []
    },
    {
      "cell_type": "code",
      "source": [
        "df = sns.load_dataset('titanic')\n",
        "print(df.head(20))"
      ],
      "metadata": {
        "colab": {
          "base_uri": "https://localhost:8080/"
        },
        "id": "eFm1w75KbOM8",
        "outputId": "e16292ed-5a3d-4d10-d552-dc530ca35e65"
      },
      "execution_count": 4,
      "outputs": [
        {
          "output_type": "stream",
          "name": "stdout",
          "text": [
            "    survived  pclass     sex   age  sibsp  parch     fare embarked   class  \\\n",
            "0          0       3    male  22.0      1      0   7.2500        S   Third   \n",
            "1          1       1  female  38.0      1      0  71.2833        C   First   \n",
            "2          1       3  female  26.0      0      0   7.9250        S   Third   \n",
            "3          1       1  female  35.0      1      0  53.1000        S   First   \n",
            "4          0       3    male  35.0      0      0   8.0500        S   Third   \n",
            "5          0       3    male   NaN      0      0   8.4583        Q   Third   \n",
            "6          0       1    male  54.0      0      0  51.8625        S   First   \n",
            "7          0       3    male   2.0      3      1  21.0750        S   Third   \n",
            "8          1       3  female  27.0      0      2  11.1333        S   Third   \n",
            "9          1       2  female  14.0      1      0  30.0708        C  Second   \n",
            "10         1       3  female   4.0      1      1  16.7000        S   Third   \n",
            "11         1       1  female  58.0      0      0  26.5500        S   First   \n",
            "12         0       3    male  20.0      0      0   8.0500        S   Third   \n",
            "13         0       3    male  39.0      1      5  31.2750        S   Third   \n",
            "14         0       3  female  14.0      0      0   7.8542        S   Third   \n",
            "15         1       2  female  55.0      0      0  16.0000        S  Second   \n",
            "16         0       3    male   2.0      4      1  29.1250        Q   Third   \n",
            "17         1       2    male   NaN      0      0  13.0000        S  Second   \n",
            "18         0       3  female  31.0      1      0  18.0000        S   Third   \n",
            "19         1       3  female   NaN      0      0   7.2250        C   Third   \n",
            "\n",
            "      who  adult_male deck  embark_town alive  alone  \n",
            "0     man        True  NaN  Southampton    no  False  \n",
            "1   woman       False    C    Cherbourg   yes  False  \n",
            "2   woman       False  NaN  Southampton   yes   True  \n",
            "3   woman       False    C  Southampton   yes  False  \n",
            "4     man        True  NaN  Southampton    no   True  \n",
            "5     man        True  NaN   Queenstown    no   True  \n",
            "6     man        True    E  Southampton    no   True  \n",
            "7   child       False  NaN  Southampton    no  False  \n",
            "8   woman       False  NaN  Southampton   yes  False  \n",
            "9   child       False  NaN    Cherbourg   yes  False  \n",
            "10  child       False    G  Southampton   yes  False  \n",
            "11  woman       False    C  Southampton   yes   True  \n",
            "12    man        True  NaN  Southampton    no   True  \n",
            "13    man        True  NaN  Southampton    no  False  \n",
            "14  child       False  NaN  Southampton    no   True  \n",
            "15  woman       False  NaN  Southampton   yes   True  \n",
            "16  child       False  NaN   Queenstown    no  False  \n",
            "17    man        True  NaN  Southampton   yes   True  \n",
            "18  woman       False  NaN  Southampton    no  False  \n",
            "19  woman       False  NaN    Cherbourg   yes   True  \n"
          ]
        }
      ]
    },
    {
      "cell_type": "code",
      "source": [
        "nan_deck = df['deck'].value_counts(dropna = False)\n",
        "print(nan_deck)\n",
        "print(type(nan_deck))"
      ],
      "metadata": {
        "colab": {
          "base_uri": "https://localhost:8080/"
        },
        "id": "1Svs7HmMbbqE",
        "outputId": "54b2eccf-342a-455c-a475-4b5f567b2c8e"
      },
      "execution_count": 6,
      "outputs": [
        {
          "output_type": "stream",
          "name": "stdout",
          "text": [
            "NaN    688\n",
            "C       59\n",
            "B       47\n",
            "D       33\n",
            "E       32\n",
            "A       15\n",
            "F       13\n",
            "G        4\n",
            "Name: deck, dtype: int64\n",
            "<class 'pandas.core.series.Series'>\n"
          ]
        }
      ]
    },
    {
      "cell_type": "code",
      "source": [
        "print(df.head().isnull())"
      ],
      "metadata": {
        "colab": {
          "base_uri": "https://localhost:8080/"
        },
        "id": "6TKe0inFcXQc",
        "outputId": "4a64d3c5-1d9a-444d-e3f2-6f2744fad383"
      },
      "execution_count": 7,
      "outputs": [
        {
          "output_type": "stream",
          "name": "stdout",
          "text": [
            "   survived  pclass    sex    age  sibsp  parch   fare  embarked  class  \\\n",
            "0     False   False  False  False  False  False  False     False  False   \n",
            "1     False   False  False  False  False  False  False     False  False   \n",
            "2     False   False  False  False  False  False  False     False  False   \n",
            "3     False   False  False  False  False  False  False     False  False   \n",
            "4     False   False  False  False  False  False  False     False  False   \n",
            "\n",
            "     who  adult_male   deck  embark_town  alive  alone  \n",
            "0  False       False   True        False  False  False  \n",
            "1  False       False  False        False  False  False  \n",
            "2  False       False   True        False  False  False  \n",
            "3  False       False  False        False  False  False  \n",
            "4  False       False   True        False  False  False  \n"
          ]
        }
      ]
    },
    {
      "cell_type": "code",
      "source": [
        "print(df.head().notnull())"
      ],
      "metadata": {
        "colab": {
          "base_uri": "https://localhost:8080/"
        },
        "id": "PZ4d9Ehkcki7",
        "outputId": "203bfdb0-1b37-4368-f3a6-77db33716379"
      },
      "execution_count": 9,
      "outputs": [
        {
          "output_type": "stream",
          "name": "stdout",
          "text": [
            "   survived  pclass   sex   age  sibsp  parch  fare  embarked  class   who  \\\n",
            "0      True    True  True  True   True   True  True      True   True  True   \n",
            "1      True    True  True  True   True   True  True      True   True  True   \n",
            "2      True    True  True  True   True   True  True      True   True  True   \n",
            "3      True    True  True  True   True   True  True      True   True  True   \n",
            "4      True    True  True  True   True   True  True      True   True  True   \n",
            "\n",
            "   adult_male   deck  embark_town  alive  alone  \n",
            "0        True  False         True   True   True  \n",
            "1        True   True         True   True   True  \n",
            "2        True  False         True   True   True  \n",
            "3        True   True         True   True   True  \n",
            "4        True  False         True   True   True  \n"
          ]
        }
      ]
    },
    {
      "cell_type": "code",
      "source": [
        "print(df.isnull().sum(axis = 0)) # 1->col 방향, 0 -> row 방향"
      ],
      "metadata": {
        "colab": {
          "base_uri": "https://localhost:8080/"
        },
        "id": "7ZrS0pOEc0hK",
        "outputId": "e659f1d2-bcb5-4cbb-f8c1-38fafec99937"
      },
      "execution_count": 13,
      "outputs": [
        {
          "output_type": "stream",
          "name": "stdout",
          "text": [
            "survived         0\n",
            "pclass           0\n",
            "sex              0\n",
            "age            177\n",
            "sibsp            0\n",
            "parch            0\n",
            "fare             0\n",
            "embarked         2\n",
            "class            0\n",
            "who              0\n",
            "adult_male       0\n",
            "deck           688\n",
            "embark_town      2\n",
            "alive            0\n",
            "alone            0\n",
            "dtype: int64\n"
          ]
        }
      ]
    },
    {
      "cell_type": "code",
      "source": [
        "df.info()"
      ],
      "metadata": {
        "colab": {
          "base_uri": "https://localhost:8080/"
        },
        "id": "PnkIjcQvc8-6",
        "outputId": "4ddfe20d-b0fd-4eeb-bf1e-a5037f1613db"
      },
      "execution_count": 14,
      "outputs": [
        {
          "output_type": "stream",
          "name": "stdout",
          "text": [
            "<class 'pandas.core.frame.DataFrame'>\n",
            "RangeIndex: 891 entries, 0 to 890\n",
            "Data columns (total 15 columns):\n",
            " #   Column       Non-Null Count  Dtype   \n",
            "---  ------       --------------  -----   \n",
            " 0   survived     891 non-null    int64   \n",
            " 1   pclass       891 non-null    int64   \n",
            " 2   sex          891 non-null    object  \n",
            " 3   age          714 non-null    float64 \n",
            " 4   sibsp        891 non-null    int64   \n",
            " 5   parch        891 non-null    int64   \n",
            " 6   fare         891 non-null    float64 \n",
            " 7   embarked     889 non-null    object  \n",
            " 8   class        891 non-null    category\n",
            " 9   who          891 non-null    object  \n",
            " 10  adult_male   891 non-null    bool    \n",
            " 11  deck         203 non-null    category\n",
            " 12  embark_town  889 non-null    object  \n",
            " 13  alive        891 non-null    object  \n",
            " 14  alone        891 non-null    bool    \n",
            "dtypes: bool(2), category(2), float64(2), int64(4), object(5)\n",
            "memory usage: 80.7+ KB\n"
          ]
        }
      ]
    },
    {
      "cell_type": "code",
      "source": [
        "df.dropna(axis = 1, thresh = 500, inplace = True) #nan 값이 500 이상인 것 \n",
        "print(df.columns)"
      ],
      "metadata": {
        "colab": {
          "base_uri": "https://localhost:8080/"
        },
        "id": "m9K9nx3TdRqj",
        "outputId": "0a8ba71f-61af-4f40-d42f-8c8f2e054106"
      },
      "execution_count": 17,
      "outputs": [
        {
          "output_type": "stream",
          "name": "stdout",
          "text": [
            "Index(['survived', 'pclass', 'sex', 'age', 'sibsp', 'parch', 'fare',\n",
            "       'embarked', 'class', 'who', 'adult_male', 'embark_town', 'alive',\n",
            "       'alone'],\n",
            "      dtype='object')\n"
          ]
        }
      ]
    },
    {
      "cell_type": "code",
      "source": [
        "df_age = df.dropna(subset = ['age'], how = 'any', axis = 0) # age col에 nan 값이 있을 경우 삭제\n",
        "df_age.info() # 인덱스가 890까지 있다는 것, 중간에 빠지게 된다는 것"
      ],
      "metadata": {
        "colab": {
          "base_uri": "https://localhost:8080/"
        },
        "id": "xAG5jPkhdzLC",
        "outputId": "bbbec1c4-c263-4178-c642-c2ae795166aa"
      },
      "execution_count": 19,
      "outputs": [
        {
          "output_type": "stream",
          "name": "stdout",
          "text": [
            "<class 'pandas.core.frame.DataFrame'>\n",
            "Int64Index: 714 entries, 0 to 890\n",
            "Data columns (total 14 columns):\n",
            " #   Column       Non-Null Count  Dtype   \n",
            "---  ------       --------------  -----   \n",
            " 0   survived     714 non-null    int64   \n",
            " 1   pclass       714 non-null    int64   \n",
            " 2   sex          714 non-null    object  \n",
            " 3   age          714 non-null    float64 \n",
            " 4   sibsp        714 non-null    int64   \n",
            " 5   parch        714 non-null    int64   \n",
            " 6   fare         714 non-null    float64 \n",
            " 7   embarked     712 non-null    object  \n",
            " 8   class        714 non-null    category\n",
            " 9   who          714 non-null    object  \n",
            " 10  adult_male   714 non-null    bool    \n",
            " 11  embark_town  712 non-null    object  \n",
            " 12  alive        714 non-null    object  \n",
            " 13  alone        714 non-null    bool    \n",
            "dtypes: bool(2), category(1), float64(2), int64(4), object(5)\n",
            "memory usage: 69.2+ KB\n"
          ]
        }
      ]
    },
    {
      "cell_type": "code",
      "source": [
        "mean_age = df['age'].mean() # 직접 더하면 nan 값이 되지만 dataFrame의 mean은 처리해 준다\n",
        "df['age'].fillna(mean_age, inplace = True) # nan 값에 mean_age을 채우고 원본에 저장 \n",
        "print(df.head(10))"
      ],
      "metadata": {
        "colab": {
          "base_uri": "https://localhost:8080/"
        },
        "id": "YMiiWSvpefF8",
        "outputId": "a75b8b9e-5d77-4e4e-d437-e2e6ec85cb94"
      },
      "execution_count": 21,
      "outputs": [
        {
          "output_type": "stream",
          "name": "stdout",
          "text": [
            "   survived  pclass     sex        age  sibsp  parch     fare embarked  \\\n",
            "0         0       3    male  22.000000      1      0   7.2500        S   \n",
            "1         1       1  female  38.000000      1      0  71.2833        C   \n",
            "2         1       3  female  26.000000      0      0   7.9250        S   \n",
            "3         1       1  female  35.000000      1      0  53.1000        S   \n",
            "4         0       3    male  35.000000      0      0   8.0500        S   \n",
            "5         0       3    male  29.699118      0      0   8.4583        Q   \n",
            "6         0       1    male  54.000000      0      0  51.8625        S   \n",
            "7         0       3    male   2.000000      3      1  21.0750        S   \n",
            "8         1       3  female  27.000000      0      2  11.1333        S   \n",
            "9         1       2  female  14.000000      1      0  30.0708        C   \n",
            "\n",
            "    class    who  adult_male  embark_town alive  alone  \n",
            "0   Third    man        True  Southampton    no  False  \n",
            "1   First  woman       False    Cherbourg   yes  False  \n",
            "2   Third  woman       False  Southampton   yes   True  \n",
            "3   First  woman       False  Southampton   yes  False  \n",
            "4   Third    man        True  Southampton    no   True  \n",
            "5   Third    man        True   Queenstown    no   True  \n",
            "6   First    man        True  Southampton    no   True  \n",
            "7   Third  child       False  Southampton    no  False  \n",
            "8   Third  woman       False  Southampton   yes  False  \n",
            "9  Second  child       False    Cherbourg   yes  False  \n"
          ]
        }
      ]
    },
    {
      "cell_type": "code",
      "source": [
        "most_freq = df['embark_town'].value_counts(dropna = True).idxmax() #idxmax() 가장 최빈값만 return\n",
        "print(most_freq)"
      ],
      "metadata": {
        "colab": {
          "base_uri": "https://localhost:8080/"
        },
        "id": "dCXXhIskfiKs",
        "outputId": "edd0cc13-421b-42cc-8cd4-2793c959da4d"
      },
      "execution_count": 23,
      "outputs": [
        {
          "output_type": "stream",
          "name": "stdout",
          "text": [
            "Southampton\n"
          ]
        }
      ]
    },
    {
      "cell_type": "code",
      "source": [
        "df_most_freq = df['embark_town'].fillna(most_freq, inplace = False)\n",
        "print(df_most_freq[825:830])\n",
        "print(df[825:830])"
      ],
      "metadata": {
        "colab": {
          "base_uri": "https://localhost:8080/"
        },
        "id": "m1N7Jyt8gprT",
        "outputId": "ff4bce3a-c2f1-4d08-ffe1-e8fd96d44525"
      },
      "execution_count": 24,
      "outputs": [
        {
          "output_type": "stream",
          "name": "stdout",
          "text": [
            "825     Queenstown\n",
            "826    Southampton\n",
            "827      Cherbourg\n",
            "828     Queenstown\n",
            "829    Southampton\n",
            "Name: embark_town, dtype: object\n",
            "     survived  pclass     sex        age  sibsp  parch     fare embarked  \\\n",
            "825         0       3    male  29.699118      0      0   6.9500        Q   \n",
            "826         0       3    male  29.699118      0      0  56.4958        S   \n",
            "827         1       2    male   1.000000      0      2  37.0042        C   \n",
            "828         1       3    male  29.699118      0      0   7.7500        Q   \n",
            "829         1       1  female  62.000000      0      0  80.0000      NaN   \n",
            "\n",
            "      class    who  adult_male  embark_town alive  alone  \n",
            "825   Third    man        True   Queenstown    no   True  \n",
            "826   Third    man        True  Southampton    no   True  \n",
            "827  Second  child       False    Cherbourg   yes  False  \n",
            "828   Third    man        True   Queenstown   yes   True  \n",
            "829   First  woman       False          NaN   yes   True  \n"
          ]
        }
      ]
    },
    {
      "cell_type": "code",
      "source": [
        "df['embark_town'].fillna(method = 'ffill', inplace = True) # ffill = nan 값을 앞의 것으로 채운다, bfill = nan 값을 뒤의 것으로 채운다.\n",
        "print(df['embark_town'][825:830])"
      ],
      "metadata": {
        "colab": {
          "base_uri": "https://localhost:8080/"
        },
        "id": "a-nJH4wahWdU",
        "outputId": "243dbfc4-ad3b-4122-e713-5e1283363876"
      },
      "execution_count": 26,
      "outputs": [
        {
          "output_type": "stream",
          "name": "stdout",
          "text": [
            "825     Queenstown\n",
            "826    Southampton\n",
            "827      Cherbourg\n",
            "828     Queenstown\n",
            "829     Queenstown\n",
            "Name: embark_town, dtype: object\n"
          ]
        }
      ]
    },
    {
      "cell_type": "code",
      "source": [
        "print(df.isnull().sum(axis = 0))"
      ],
      "metadata": {
        "colab": {
          "base_uri": "https://localhost:8080/"
        },
        "id": "Rpv89IPqh4Ii",
        "outputId": "1ac0b9f5-c321-42fd-ab05-e2eb11237e97"
      },
      "execution_count": 27,
      "outputs": [
        {
          "output_type": "stream",
          "name": "stdout",
          "text": [
            "survived       0\n",
            "pclass         0\n",
            "sex            0\n",
            "age            0\n",
            "sibsp          0\n",
            "parch          0\n",
            "fare           0\n",
            "embarked       2\n",
            "class          0\n",
            "who            0\n",
            "adult_male     0\n",
            "embark_town    0\n",
            "alive          0\n",
            "alone          0\n",
            "dtype: int64\n"
          ]
        }
      ]
    },
    {
      "cell_type": "code",
      "source": [
        "df.drop(['survived', 'embarked'], inplace = True, axis=1)\n",
        "df.info()"
      ],
      "metadata": {
        "colab": {
          "base_uri": "https://localhost:8080/"
        },
        "id": "r--sh2lViyva",
        "outputId": "54c82868-0805-4255-eea2-9cce0008bd25"
      },
      "execution_count": 29,
      "outputs": [
        {
          "output_type": "stream",
          "name": "stdout",
          "text": [
            "<class 'pandas.core.frame.DataFrame'>\n",
            "RangeIndex: 891 entries, 0 to 890\n",
            "Data columns (total 12 columns):\n",
            " #   Column       Non-Null Count  Dtype   \n",
            "---  ------       --------------  -----   \n",
            " 0   pclass       891 non-null    int64   \n",
            " 1   sex          891 non-null    object  \n",
            " 2   age          891 non-null    float64 \n",
            " 3   sibsp        891 non-null    int64   \n",
            " 4   parch        891 non-null    int64   \n",
            " 5   fare         891 non-null    float64 \n",
            " 6   class        891 non-null    category\n",
            " 7   who          891 non-null    object  \n",
            " 8   adult_male   891 non-null    bool    \n",
            " 9   embark_town  891 non-null    object  \n",
            " 10  alive        891 non-null    object  \n",
            " 11  alone        891 non-null    bool    \n",
            "dtypes: bool(2), category(1), float64(2), int64(3), object(4)\n",
            "memory usage: 65.5+ KB\n"
          ]
        }
      ]
    },
    {
      "cell_type": "code",
      "source": [
        "print(df.isnull().sum(axis = 0))"
      ],
      "metadata": {
        "colab": {
          "base_uri": "https://localhost:8080/"
        },
        "id": "v7Ciuf_ujmBL",
        "outputId": "336a04fc-c36e-48d7-e156-1346611b9ee7"
      },
      "execution_count": 30,
      "outputs": [
        {
          "output_type": "stream",
          "name": "stdout",
          "text": [
            "pclass         0\n",
            "sex            0\n",
            "age            0\n",
            "sibsp          0\n",
            "parch          0\n",
            "fare           0\n",
            "class          0\n",
            "who            0\n",
            "adult_male     0\n",
            "embark_town    0\n",
            "alive          0\n",
            "alone          0\n",
            "dtype: int64\n"
          ]
        }
      ]
    },
    {
      "cell_type": "markdown",
      "source": [
        "## 중복 제거"
      ],
      "metadata": {
        "id": "C3zBaqBkj0C6"
      }
    },
    {
      "cell_type": "code",
      "source": [
        "df = pd.DataFrame({'c1':['a', 'a', 'b', 'a', 'b'],\n",
        "                   'c2':[1, 1, 1, 2, 2],\n",
        "                   'c3':[1, 1, 2, 2, 2]})\n",
        "print(df)"
      ],
      "metadata": {
        "colab": {
          "base_uri": "https://localhost:8080/"
        },
        "id": "JrIMytoCqM8f",
        "outputId": "9bdaeec4-0a8e-42ea-f818-8327ebb4c414"
      },
      "execution_count": 31,
      "outputs": [
        {
          "output_type": "stream",
          "name": "stdout",
          "text": [
            "  c1  c2  c3\n",
            "0  a   1   1\n",
            "1  a   1   1\n",
            "2  b   1   2\n",
            "3  a   2   2\n",
            "4  b   2   2\n"
          ]
        }
      ]
    },
    {
      "cell_type": "code",
      "source": [
        "df_dup = df.duplicated() # 모든 값이 같아야 중복이다. 하나가 같아도 않된다.\n",
        "print(df_dup)"
      ],
      "metadata": {
        "colab": {
          "base_uri": "https://localhost:8080/"
        },
        "id": "Fd3Xm_lYqt3x",
        "outputId": "77f4aaf1-517f-4ed5-bc9c-cac6b57c26bd"
      },
      "execution_count": 32,
      "outputs": [
        {
          "output_type": "stream",
          "name": "stdout",
          "text": [
            "0    False\n",
            "1     True\n",
            "2    False\n",
            "3    False\n",
            "4    False\n",
            "dtype: bool\n"
          ]
        }
      ]
    },
    {
      "cell_type": "code",
      "source": [
        "df_dup = df['c2'].duplicated()# 첫 번째 값은 처음 나왔기 때문에 무조건 False\n",
        "print(df_dup)"
      ],
      "metadata": {
        "colab": {
          "base_uri": "https://localhost:8080/"
        },
        "id": "5yUH4DGVrA-i",
        "outputId": "5a720486-a3aa-49ee-ce1b-0d90e21d6549"
      },
      "execution_count": 33,
      "outputs": [
        {
          "output_type": "stream",
          "name": "stdout",
          "text": [
            "0    False\n",
            "1     True\n",
            "2     True\n",
            "3    False\n",
            "4     True\n",
            "Name: c2, dtype: bool\n"
          ]
        }
      ]
    },
    {
      "cell_type": "code",
      "source": [
        "df2 = df.drop_duplicates() # [1]이 제거된 것 index는 그대로 \n",
        "print(df2)"
      ],
      "metadata": {
        "colab": {
          "base_uri": "https://localhost:8080/"
        },
        "id": "kzyU3tJEraFI",
        "outputId": "4e388fe7-bd99-4bf9-f135-5836cb3c8e96"
      },
      "execution_count": 34,
      "outputs": [
        {
          "output_type": "stream",
          "name": "stdout",
          "text": [
            "  c1  c2  c3\n",
            "0  a   1   1\n",
            "2  b   1   2\n",
            "3  a   2   2\n",
            "4  b   2   2\n"
          ]
        }
      ]
    },
    {
      "cell_type": "code",
      "source": [
        "df2 = df.drop_duplicates(subset = ['c2', 'c3']) #[1], [4 제거]\n",
        "print(df2)"
      ],
      "metadata": {
        "colab": {
          "base_uri": "https://localhost:8080/"
        },
        "id": "w9dgrfiprr-Q",
        "outputId": "8c16be88-0571-48ff-e0c6-207a8f319c81"
      },
      "execution_count": 36,
      "outputs": [
        {
          "output_type": "stream",
          "name": "stdout",
          "text": [
            "  c1  c2  c3\n",
            "0  a   1   1\n",
            "2  b   1   2\n",
            "3  a   2   2\n"
          ]
        }
      ]
    },
    {
      "cell_type": "code",
      "source": [
        "df = pd.read_csv('./datasets/auto-mpg.csv', header = None)\n",
        "df.columns = ['mpg', 'cylinders', 'displacement', 'horsepower', 'weight', 'acceleration', 'model year', 'origin', 'name']\n",
        "print(df.head())"
      ],
      "metadata": {
        "colab": {
          "base_uri": "https://localhost:8080/"
        },
        "id": "X_AagQ9Tr-Jy",
        "outputId": "e27a02d4-e53e-4e3c-eb7c-14435a8341ff"
      },
      "execution_count": 45,
      "outputs": [
        {
          "output_type": "stream",
          "name": "stdout",
          "text": [
            "    mpg  cylinders  displacement horsepower  weight  acceleration  model year  \\\n",
            "0  18.0          8         307.0      130.0  3504.0          12.0          70   \n",
            "1  15.0          8         350.0      165.0  3693.0          11.5          70   \n",
            "2  18.0          8         318.0      150.0  3436.0          11.0          70   \n",
            "3  16.0          8         304.0      150.0  3433.0          12.0          70   \n",
            "4  17.0          8         302.0      140.0  3449.0          10.5          70   \n",
            "\n",
            "   origin                       name  \n",
            "0       1  chevrolet chevelle malibu  \n",
            "1       1          buick skylark 320  \n",
            "2       1         plymouth satellite  \n",
            "3       1              amc rebel sst  \n",
            "4       1                ford torino  \n"
          ]
        }
      ]
    },
    {
      "cell_type": "code",
      "source": [
        "mpg_to_kpl = 0.425144\n",
        "df['kpl'] = df['mpg']* mpg_to_kpl\n",
        "print(df.head())"
      ],
      "metadata": {
        "colab": {
          "base_uri": "https://localhost:8080/"
        },
        "id": "TUJR8faztX5x",
        "outputId": "951ef0a9-007e-460f-86cb-0d9449be6474"
      },
      "execution_count": 46,
      "outputs": [
        {
          "output_type": "stream",
          "name": "stdout",
          "text": [
            "    mpg  cylinders  displacement horsepower  weight  acceleration  model year  \\\n",
            "0  18.0          8         307.0      130.0  3504.0          12.0          70   \n",
            "1  15.0          8         350.0      165.0  3693.0          11.5          70   \n",
            "2  18.0          8         318.0      150.0  3436.0          11.0          70   \n",
            "3  16.0          8         304.0      150.0  3433.0          12.0          70   \n",
            "4  17.0          8         302.0      140.0  3449.0          10.5          70   \n",
            "\n",
            "   origin                       name       kpl  \n",
            "0       1  chevrolet chevelle malibu  7.652592  \n",
            "1       1          buick skylark 320  6.377160  \n",
            "2       1         plymouth satellite  7.652592  \n",
            "3       1              amc rebel sst  6.802304  \n",
            "4       1                ford torino  7.227448  \n"
          ]
        }
      ]
    },
    {
      "cell_type": "code",
      "source": [
        "df['kol'] = df['kpl'].round(2)\n",
        "print(df.head())"
      ],
      "metadata": {
        "colab": {
          "base_uri": "https://localhost:8080/"
        },
        "id": "0MJKbRqEuF5o",
        "outputId": "7e66e78a-5e8f-4cb5-d337-0312e710035d"
      },
      "execution_count": 47,
      "outputs": [
        {
          "output_type": "stream",
          "name": "stdout",
          "text": [
            "    mpg  cylinders  displacement horsepower  weight  acceleration  model year  \\\n",
            "0  18.0          8         307.0      130.0  3504.0          12.0          70   \n",
            "1  15.0          8         350.0      165.0  3693.0          11.5          70   \n",
            "2  18.0          8         318.0      150.0  3436.0          11.0          70   \n",
            "3  16.0          8         304.0      150.0  3433.0          12.0          70   \n",
            "4  17.0          8         302.0      140.0  3449.0          10.5          70   \n",
            "\n",
            "   origin                       name       kpl   kol  \n",
            "0       1  chevrolet chevelle malibu  7.652592  7.65  \n",
            "1       1          buick skylark 320  6.377160  6.38  \n",
            "2       1         plymouth satellite  7.652592  7.65  \n",
            "3       1              amc rebel sst  6.802304  6.80  \n",
            "4       1                ford torino  7.227448  7.23  \n"
          ]
        }
      ]
    },
    {
      "cell_type": "code",
      "source": [
        "df.info()"
      ],
      "metadata": {
        "colab": {
          "base_uri": "https://localhost:8080/"
        },
        "id": "JulkljWwu4GA",
        "outputId": "391eabc8-46ed-4296-afaa-acc6b1a17b4b"
      },
      "execution_count": 48,
      "outputs": [
        {
          "output_type": "stream",
          "name": "stdout",
          "text": [
            "<class 'pandas.core.frame.DataFrame'>\n",
            "RangeIndex: 398 entries, 0 to 397\n",
            "Data columns (total 11 columns):\n",
            " #   Column        Non-Null Count  Dtype  \n",
            "---  ------        --------------  -----  \n",
            " 0   mpg           398 non-null    float64\n",
            " 1   cylinders     398 non-null    int64  \n",
            " 2   displacement  398 non-null    float64\n",
            " 3   horsepower    398 non-null    object \n",
            " 4   weight        398 non-null    float64\n",
            " 5   acceleration  398 non-null    float64\n",
            " 6   model year    398 non-null    int64  \n",
            " 7   origin        398 non-null    int64  \n",
            " 8   name          398 non-null    object \n",
            " 9   kpl           398 non-null    float64\n",
            " 10  kol           398 non-null    float64\n",
            "dtypes: float64(6), int64(3), object(2)\n",
            "memory usage: 34.3+ KB\n"
          ]
        }
      ]
    },
    {
      "cell_type": "code",
      "source": [
        "print(df['horsepower'].unique())"
      ],
      "metadata": {
        "colab": {
          "base_uri": "https://localhost:8080/"
        },
        "id": "Yz_6MkGrvE6I",
        "outputId": "a320f5df-1820-4f0f-a856-71cafd3908dd"
      },
      "execution_count": 49,
      "outputs": [
        {
          "output_type": "stream",
          "name": "stdout",
          "text": [
            "['130.0' '165.0' '150.0' '140.0' '198.0' '220.0' '215.0' '225.0' '190.0'\n",
            " '170.0' '160.0' '95.00' '97.00' '85.00' '88.00' '46.00' '87.00' '90.00'\n",
            " '113.0' '200.0' '210.0' '193.0' '?' '100.0' '105.0' '175.0' '153.0'\n",
            " '180.0' '110.0' '72.00' '86.00' '70.00' '76.00' '65.00' '69.00' '60.00'\n",
            " '80.00' '54.00' '208.0' '155.0' '112.0' '92.00' '145.0' '137.0' '158.0'\n",
            " '167.0' '94.00' '107.0' '230.0' '49.00' '75.00' '91.00' '122.0' '67.00'\n",
            " '83.00' '78.00' '52.00' '61.00' '93.00' '148.0' '129.0' '96.00' '71.00'\n",
            " '98.00' '115.0' '53.00' '81.00' '79.00' '120.0' '152.0' '102.0' '108.0'\n",
            " '68.00' '58.00' '149.0' '89.00' '63.00' '48.00' '66.00' '139.0' '103.0'\n",
            " '125.0' '133.0' '138.0' '135.0' '142.0' '77.00' '62.00' '132.0' '84.00'\n",
            " '64.00' '74.00' '116.0' '82.00']\n"
          ]
        }
      ]
    },
    {
      "cell_type": "code",
      "source": [
        "df['horsepower'].replace('?', np.nan, inplace=True )# 일단은 ?을 nan 값으로 바꾼 다음 ffill, bfill 등으로 바꿀 수 있다.\n",
        "df.dropna(subset = ['horsepower'], axis = 0, inplace = True) # horsepower col기준으로 axis = 0(col의 row 하나하나)의 nan값 제거\n",
        "df['horsepower'] = df['horsepower'].astype('float')\n",
        "df.info()"
      ],
      "metadata": {
        "colab": {
          "base_uri": "https://localhost:8080/"
        },
        "id": "4cfEYQZSvPvo",
        "outputId": "1fe979cf-9bb2-4355-a65a-37f4738ceedb"
      },
      "execution_count": 50,
      "outputs": [
        {
          "output_type": "stream",
          "name": "stdout",
          "text": [
            "<class 'pandas.core.frame.DataFrame'>\n",
            "Int64Index: 392 entries, 0 to 397\n",
            "Data columns (total 11 columns):\n",
            " #   Column        Non-Null Count  Dtype  \n",
            "---  ------        --------------  -----  \n",
            " 0   mpg           392 non-null    float64\n",
            " 1   cylinders     392 non-null    int64  \n",
            " 2   displacement  392 non-null    float64\n",
            " 3   horsepower    392 non-null    float64\n",
            " 4   weight        392 non-null    float64\n",
            " 5   acceleration  392 non-null    float64\n",
            " 6   model year    392 non-null    int64  \n",
            " 7   origin        392 non-null    int64  \n",
            " 8   name          392 non-null    object \n",
            " 9   kpl           392 non-null    float64\n",
            " 10  kol           392 non-null    float64\n",
            "dtypes: float64(7), int64(3), object(1)\n",
            "memory usage: 36.8+ KB\n"
          ]
        }
      ]
    },
    {
      "cell_type": "code",
      "source": [
        "print(df['horsepower'].unique())"
      ],
      "metadata": {
        "colab": {
          "base_uri": "https://localhost:8080/"
        },
        "id": "RoLanlPMwc_g",
        "outputId": "728d6b56-f9e7-418d-e791-47581207ad74"
      },
      "execution_count": 51,
      "outputs": [
        {
          "output_type": "stream",
          "name": "stdout",
          "text": [
            "[130. 165. 150. 140. 198. 220. 215. 225. 190. 170. 160.  95.  97.  85.\n",
            "  88.  46.  87.  90. 113. 200. 210. 193. 100. 105. 175. 153. 180. 110.\n",
            "  72.  86.  70.  76.  65.  69.  60.  80.  54. 208. 155. 112.  92. 145.\n",
            " 137. 158. 167.  94. 107. 230.  49.  75.  91. 122.  67.  83.  78.  52.\n",
            "  61.  93. 148. 129.  96.  71.  98. 115.  53.  81.  79. 120. 152. 102.\n",
            " 108.  68.  58. 149.  89.  63.  48.  66. 139. 103. 125. 133. 138. 135.\n",
            " 142.  77.  62. 132.  84.  64.  74. 116.  82.]\n"
          ]
        }
      ]
    },
    {
      "cell_type": "code",
      "source": [
        ""
      ],
      "metadata": {
        "id": "2AoIxxohwoT4"
      },
      "execution_count": null,
      "outputs": []
    }
  ]
}